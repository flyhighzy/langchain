{
 "cells": [
  {
   "cell_type": "markdown",
   "metadata": {},
   "source": [
    "## InternLM\n",
    "\n",
    "[InternLM](https://github.com/InternLM) is mainly developed by Shanghai AI Laboratory. We keep open-sourcing high quality LLMs as well as a full-stack toolchain for development and application.\n",
    "\n",
    "### Models\n",
    "- [InternLM](https://github.com/InternLM/InternLM): a series of multi-lingual foundation models and chat models.\n",
    "- [InternLM-Math](https://github.com/InternLM/InternLM-Math): state-of-the-art bilingual math reasoning LLMs.\n",
    "- [InternLM-XComposer](https://github.com/InternLM/InternLM-XComposer): a vision-language large model (VLLM) based on InternLM for advanced text-image comprehension and composition.\n",
    "\n",
    "### Toolchain\n",
    "- [LMDeploy](https://github.com/InternLM/lmdeploy): a toolkit for compressing, deploying, and serving LLMs.\n"
   ]
  },
  {
   "cell_type": "markdown",
   "metadata": {},
   "source": [
    "## Prerequirement\n",
    "\n",
    "Currently we recommend to use [LMDeploy](https://github.com/InternLM/lmdeploy) to serve model with restful api.\n",
    "\n",
    "### install lmdeploy and launch server\n"
   ]
  },
  {
   "cell_type": "code",
   "execution_count": null,
   "metadata": {
    "vscode": {
     "languageId": "shellscript"
    }
   },
   "outputs": [],
   "source": [
    "# install lmdeploy \n",
    "\n",
    "!pip install lmdeploy\n",
    "\n",
    "# launch server\n",
    "\n",
    "!lmdeploy serve api_server internlm/internlm2-chat-7b --server-port 23333\n"
   ]
  },
  {
   "cell_type": "markdown",
   "metadata": {},
   "source": [
    "This will download model from huggingface and start a restful API server on port 23333\n",
    "\n",
    "### query model name"
   ]
  },
  {
   "cell_type": "code",
   "execution_count": 6,
   "metadata": {
    "vscode": {
     "languageId": "shellscript"
    }
   },
   "outputs": [
    {
     "name": "stdout",
     "output_type": "stream",
     "text": [
      "{\"object\":\"list\",\"data\":[{\"id\":\"internlm2-chat-20b\",\"object\":\"model\",\"created\":1712130931,\"owned_by\":\"lmdeploy\",\"root\":\"internlm2-chat-20b\",\"parent\":null,\"permission\":[{\"id\":\"modelperm-3Wsy79VUyyzUZxabh9s2U8\",\"object\":\"model_permission\",\"created\":1712130931,\"allow_create_engine\":false,\"allow_sampling\":true,\"allow_logprobs\":true,\"allow_search_indices\":true,\"allow_view\":true,\"allow_fine_tuning\":false,\"organization\":\"*\",\"group\":null,\"is_blocking\":false}]}]}"
     ]
    }
   ],
   "source": [
    "!curl http://127.0.0.1:23333/v1/models \n",
    "\n",
    "# you can get model from response['data'][0]['id']"
   ]
  },
  {
   "cell_type": "markdown",
   "metadata": {},
   "source": [
    "## Use InternLM"
   ]
  },
  {
   "cell_type": "code",
   "execution_count": 10,
   "metadata": {},
   "outputs": [
    {
     "name": "stdout",
     "output_type": "stream",
     "text": [
      "Hello! How can I assist you today?\n"
     ]
    }
   ],
   "source": [
    "from langchain_community.llms.internlm import InternLM\n",
    "\n",
    "llm = InternLM(\n",
    "    endpoint_url=\"http://10.140.0.65:33434/v1/chat/completions\",\n",
    "    model=\"internlm2-chat-20b\"\n",
    ")\n",
    "output = llm(\"hello\", stop=[\"[UNUSED_TOKEN_145]\"])\n",
    "print(output)"
   ]
  },
  {
   "cell_type": "code",
   "execution_count": 9,
   "metadata": {},
   "outputs": [
    {
     "data": {
      "text/plain": [
       "LLMResult(generations=[[Generation(text='你好！有什么我可以帮助你的吗？')]], llm_output=None, run=[RunInfo(run_id=UUID('f5d2efea-fb65-4ca9-b7f0-208a08e29601'))])"
      ]
     },
     "execution_count": 9,
     "metadata": {},
     "output_type": "execute_result"
    }
   ],
   "source": [
    "res = llm.generate(prompts=[\"你好！\"], stop=[\"[UNUSED_TOKEN_145]\"])\n",
    "res"
   ]
  }
 ],
 "metadata": {
  "kernelspec": {
   "display_name": "langchain",
   "language": "python",
   "name": "python3"
  },
  "language_info": {
   "codemirror_mode": {
    "name": "ipython",
    "version": 3
   },
   "file_extension": ".py",
   "mimetype": "text/x-python",
   "name": "python",
   "nbconvert_exporter": "python",
   "pygments_lexer": "ipython3",
   "version": "3.8.18"
  }
 },
 "nbformat": 4,
 "nbformat_minor": 2
}
